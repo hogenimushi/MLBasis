{
 "cells": [
  {
   "cell_type": "markdown",
   "metadata": {},
   "source": [
    "# Chainer チュートリアル その１\n",
    "\n",
    "https://qiita.com/mitmul/items/eccf4e0a84cb784ba84a\n",
    "のなかから、学習の基本的な部分を実行してみる。\n",
    "\n"
   ]
  },
  {
   "cell_type": "markdown",
   "metadata": {},
   "source": [
    "## 1. MNISTの準備\n",
    "\n",
    "\n",
    "研究をするためには、本当は自分でデータを読み書きしたほうが良い。\n",
    "自分で作ったニューラルネットのデバイスにデータを投入して、データをとるためである。\n",
    "今回はChainarに集中するために、\n",
    "ChanerにはMNISTを呼び出してくれる便利な関数があるので、それを使う。\n",
    "\n"
   ]
  },
  {
   "cell_type": "code",
   "execution_count": 1,
   "metadata": {},
   "outputs": [
    {
     "data": {
      "image/png": "[encoded data removed]",
      "text/plain": [
       "<matplotlib.figure.Figure at 0x7f33c40c90b8>"
      ]
     },
     "metadata": {},
     "output_type": "display_data"
    },
    {
     "name": "stdout",
     "output_type": "stream",
     "text": [
      "label: 5\n"
     ]
    }
   ],
   "source": [
    "from chainer.datasets import mnist\n",
    "\n",
    "# データがダウンロードされていなければ、ダウンロードを行う\n",
    "train, test = mnist.get_mnist(withlabel=True, ndim=1)\n",
    "\n",
    "# matplotlibがnotebookに反映されるようにする。\n",
    "%matplotlib inline\n",
    "import matplotlib.pyplot as plt\n",
    "\n",
    "# データを例示する\n",
    "x, t = train[0]\n",
    "plt.imshow(x.reshape(28, 28), cmap='gray')\n",
    "plt.show()\n",
    "print('label:', t)"
   ]
  },
  {
   "cell_type": "markdown",
   "metadata": {},
   "source": [
    "trainとtestの配列の大きさを見てみよう。"
   ]
  },
  {
   "cell_type": "code",
   "execution_count": 2,
   "metadata": {},
   "outputs": [
    {
     "name": "stdout",
     "output_type": "stream",
     "text": [
      "60000\n",
      "10000\n"
     ]
    }
   ],
   "source": [
    "print(len(train))\n",
    "print(len(test))"
   ]
  },
  {
   "cell_type": "markdown",
   "metadata": {},
   "source": [
    "# 2. Iteratorを作る "
   ]
  },
  {
   "cell_type": "markdown",
   "metadata": {},
   "source": [
    "データセットから一部のデータを取得し、それらを束ねてミニバッチを作成して学習を行おう。\n",
    "学習はデータの投入、forwardの計算、重みの更新、の繰り返しで行うが、このループを抽象化したのがIteratorである。\n",
    "Cainarではミニバッチに対して行う、学習やテストなどの繰り返しをIteratorをというオブジェクトで取り扱う。\n",
    "この後の学習ループはIteratorを使用していく。\n",
    "\n",
    "イテレータは、next()メソッドで新しいミニバッチを返す。内部ではデータセットを何周走査したか（epoch）、\n",
    "現在のイテレーションが新しいepochの最初のイテレーションかどうかを管理するプロパティ（is_new_epoch）、\n",
    "など、実験に必要な情報を保持する。"
   ]
  },
  {
   "cell_type": "code",
   "execution_count": 3,
   "metadata": {
    "collapsed": true
   },
   "outputs": [],
   "source": [
    "from chainer import iterators\n",
    "\n",
    "batchsize = 128\n",
    "\n",
    "train_iter = iterators.SerialIterator(train, batchsize)\n",
    "test_iter = iterators.SerialIterator(test, batchsize,\n",
    "                                     repeat=False, shuffle=False)"
   ]
  },
  {
   "cell_type": "markdown",
   "metadata": {},
   "source": [
    "## Iteratorについて\n",
    "\n",
    "Iterate:反復する\n",
    "\n",
    "\n",
    "Iteratorは、配列に入っているデータの読み出しの管理をするオブジェクトである。\n",
    "\n",
    "Chainerが用意しているSerialIteratorは、\n",
    "データセットの中のデータを順番に取り出してくる最もシンプルなIteratorである。\n",
    "データセットオブジェクトと、バッチサイズ指定すると、\n",
    "データオブジェクトからランダムでバッチサイズの数だけデータを取り出し、\n",
    "繰り返し読み出す準備をする。\n",
    "\n",
    "渡したデータセットオブジェクトから、データを繰り返し読み出す必要がある場合はrepeat引数をTrueとし、\n",
    "一巡したらそれ以上データを取り出したくない場合はこれをFalseとする。\n",
    "デフォルトでは、True。\n",
    "\n",
    "shuffle引数にTrueを渡すと、データセットから取り出されてくるデータの順番をエポックごとにランダムに変更する。\n",
    "\n",
    "batchsize = 128としているので、train_iterとtest_iterは、それぞれ128枚の数字画像データを読み出すためのIteratorということになる。"
   ]
  },
  {
   "cell_type": "markdown",
   "metadata": {},
   "source": [
    "# 3. モデルの定義\n"
   ]
  },
  {
   "cell_type": "markdown",
   "metadata": {},
   "source": [
    "ここでは、三層パーセプトロンを定義する。\n",
    "\n",
    "ここで用いるMNISTデータセットは10種のラベルを持つため10とし、\n",
    "中間層のユニット数は100とする。\n",
    "\n",
    "Chainarでは、Link, Function, Chain、オブジェクトを用いて、ニューラルネットのモデルを記述していく。\n",
    "\n",
    "\n",
    "## LinkとFunction\n",
    " \n",
    "Linkとfunctionは、ニューラルネットの層を記述するためのオブジェクトである。\n",
    "\n",
    "|          |Link           |Function         |\n",
    "|----------|---------------|-----------------|\n",
    "|パラメータ|持たない       |持つ             |\n",
    "|モジュール| chainer.links |chainer.functions|\n",
    "\n",
    "慣習的に以下のようにimportしておく.\n",
    "\n",
    "`\n",
    "import chainer.links as L\n",
    "import chainer.functions as F\n",
    "`\n",
    "\n",
    "`L.Convolution2D()`や`F.relu()` などとして使う。"
   ]
  },
  {
   "cell_type": "markdown",
   "metadata": {},
   "source": [
    "## Chain\n",
    "\n",
    "Chainは、Linkを集めて、パラメータを持つ層を表現するクラスである。\n",
    "学習の時には、Chainに入っているパラメータを更新していく。\n",
    "Chainerで学習を行うときは、学習中にOptimizerが更新すべき全てのパラメータを簡単に取得できるように、Chainで一箇所にまとめておく。\n",
    "\n",
    "また、モデルはChainクラスを継承したクラスとして定義されることが多い。\n",
    "モデルを表すクラスのコンストラクタで、親クラスのコンストラクタにキーワード引数の形で登録したい層の名前と、オブジェクトを渡しておくと、自動的にOptimizerから見つけられる形で保持される。また、別の場所でadd_linkメソッドを使っても行うことができる。\n",
    "\n",
    "関数呼び出しのようにしてモデルに()アクセサでデータを渡せるように、__call__メソッドを定義して、その中にforward処理を記述すると便利である。\n",
    "\n"
   ]
  },
  {
   "cell_type": "markdown",
   "metadata": {},
   "source": [
    "## モデルの定義\n",
    "実際のモデルの定義を示す。\n",
    "\n",
    "1. ChainのサブクラスとしてMLPを定義している\n",
    "2. 親クラスのコンストラクタに、層の名前を渡し、パラメータを持つオブジェクトを定義している。\n",
    "3. `__call__`メソッドで、データを受け取ったときの計算を決めている"
   ]
  },
  {
   "cell_type": "code",
   "execution_count": 4,
   "metadata": {
    "collapsed": true
   },
   "outputs": [],
   "source": [
    "import chainer\n",
    "import chainer.links as L\n",
    "import chainer.functions as F\n",
    "\n",
    "class MLP(chainer.Chain):\n",
    "\n",
    "    def __init__(self, n_mid_units=100, n_out=10):\n",
    "        # パラメータを持つ層の登録\n",
    "        super(MLP, self).__init__(\n",
    "            l1=L.Linear(None, n_mid_units),\n",
    "            l2=L.Linear(n_mid_units, n_mid_units),\n",
    "            l3=L.Linear(n_mid_units, n_out),\n",
    "        )\n",
    "\n",
    "    def __call__(self, x):\n",
    "        # データを受け取った際のforward計算を書く\n",
    "        h1 = F.relu(self.l1(x))\n",
    "        h2 = F.relu(self.l2(h1))\n",
    "        return self.l3(h2)\n",
    "\n",
    "model = MLP()\n"
   ]
  },
  {
   "cell_type": "markdown",
   "metadata": {},
   "source": [
    "`L.Linear`は全結合層であり、引数は入力の数と出力の数である。これらが入力されると、パラメータが$入力\\times 出力$だけ自動的に確保される。\n",
    "\n",
    "`F.relu`はrelu関数で出力を評価し、出力値を変換する、という意味である。ステップ関数やシグモイド関数も用意されている。\n",
    "\n",
    "'Linear'クラスは、Wとbのメンバ変数を持つ。Wはパラメータ行列、bはバイアスである。バイアスを見てみよう。"
   ]
  },
  {
   "cell_type": "code",
   "execution_count": 5,
   "metadata": {},
   "outputs": [
    {
     "name": "stdout",
     "output_type": "stream",
     "text": [
      "1つ目の全結合相のバイアスパラメータの形は、 (100,)\n",
      "初期化直後のその値は、 [ 0.  0.  0.  0.  0.  0.  0.  0.  0.  0.  0.  0.  0.  0.  0.  0.  0.  0.\n",
      "  0.  0.  0.  0.  0.  0.  0.  0.  0.  0.  0.  0.  0.  0.  0.  0.  0.  0.\n",
      "  0.  0.  0.  0.  0.  0.  0.  0.  0.  0.  0.  0.  0.  0.  0.  0.  0.  0.\n",
      "  0.  0.  0.  0.  0.  0.  0.  0.  0.  0.  0.  0.  0.  0.  0.  0.  0.  0.\n",
      "  0.  0.  0.  0.  0.  0.  0.  0.  0.  0.  0.  0.  0.  0.  0.  0.  0.  0.\n",
      "  0.  0.  0.  0.  0.  0.  0.  0.  0.  0.]\n"
     ]
    }
   ],
   "source": [
    "print('1つ目の全結合相のバイアスパラメータの形は、', model.l1.b.shape)\n",
    "print('初期化直後のその値は、', model.l1.b.data)"
   ]
  },
  {
   "cell_type": "code",
   "execution_count": 6,
   "metadata": {},
   "outputs": [
    {
     "name": "stdout",
     "output_type": "stream",
     "text": [
      "variable W([[-0.04102618  0.02721617 -0.12853308 ...,  0.08807396\n",
      "             -0.08484822 -0.01528504]\n",
      "            [-0.10545832  0.04503953 -0.14108773 ..., -0.06105508\n",
      "              0.10733379  0.22184092]\n",
      "            [ 0.03949065  0.00160416  0.10991538 ...,  0.02825215\n",
      "             -0.01454245  0.0142852 ]\n",
      "            ..., \n",
      "            [-0.0999627   0.07811061 -0.04531647 ...,  0.24858736\n",
      "             -0.0011903  -0.0678406 ]\n",
      "            [-0.03981388  0.01258735 -0.12455377 ...,  0.12476893\n",
      "              0.0600693   0.20158371]\n",
      "            [ 0.02554563  0.0544226   0.09823129 ...,  0.04297119\n",
      "              0.09561111  0.01461734]])\n",
      "(100, 100)\n"
     ]
    }
   ],
   "source": [
    "print(model.l2.W)\n",
    "print(model.l2.W.shape)"
   ]
  },
  {
   "cell_type": "markdown",
   "metadata": {},
   "source": [
    "## 学習"
   ]
  },
  {
   "cell_type": "markdown",
   "metadata": {},
   "source": [
    "学習のステップは以下のようになる。\n",
    "\n",
    "1. 予測値の計算\n",
    "1. 損失関数の計算\n",
    "1. 重みの更新\n",
    "1. 適切なところで途中結果を表示\n",
    "\n",
    "まず、現在の重みでMLPに分類を行わせる。\n",
    "その結果は、入力された画像がどのクラスに分類されるか？という\n",
    "10個のニューロンからの出力である。\n",
    "\n",
    "次に、損失関数の計算を行う。得られた出力が合っているか誤っているかを\n",
    "判断する値を実数で算出する。\n",
    "\n",
    "最後に、重みを更新する。得られた出力が誤っている場合、重みを正しい方向に\n",
    "修正する必要がある。重みを修正するアルゴリズムは最適化手法といい、\n",
    "chainer.optimizersモジュール以下から選択できる。\n",
    "\n",
    "ここでは、最適化手法として勾配降下法の手法であるoptimizers.SGDを用いる。\n",
    "Optimizerのオブジェクトには、setupメソッドを使ってChainオブジェクトを渡す。\n",
    "こうすることでOptimizerは、自身が更新すべきモデル内のパラメータを自動的に検出する。\n",
    "\n",
    "最適化手法は他に、MomentumSGD, RMSprop, Adamがある。`chainer.optimizers.SGD`の部分を`chainer.optimizers.最適化手法名`と変更することで手軽に試せるので、色々と試してみて結果の変化を見てみるとよい。\n",
    "\n",
    "from chainer import optimizers\n",
    "\n",
    "optimizer = optimizers.SGD(lr=0.01)\n",
    "optimizer.setup(model)\n"
   ]
  },
  {
   "cell_type": "code",
   "execution_count": 7,
   "metadata": {
    "collapsed": true
   },
   "outputs": [],
   "source": [
    "from chainer import optimizers\n",
    "optimizer = optimizers.SGD(lr=0.01)\n",
    "optimizer.setup(model) "
   ]
  },
  {
   "cell_type": "code",
   "execution_count": null,
   "metadata": {
    "collapsed": true
   },
   "outputs": [],
   "source": []
  },
  {
   "cell_type": "code",
   "execution_count": 8,
   "metadata": {},
   "outputs": [
    {
     "name": "stdout",
     "output_type": "stream",
     "text": [
      "epoch:01 train_loss:0.7337 val_loss:0.7289 val_accuracy:0.8339\n",
      "epoch:02 train_loss:0.4378 val_loss:0.4538 val_accuracy:0.8803\n",
      "epoch:03 train_loss:0.2786 val_loss:0.3752 val_accuracy:0.8973\n",
      "epoch:04 train_loss:0.3122 val_loss:0.3368 val_accuracy:0.9053\n",
      "epoch:05 train_loss:0.3565 val_loss:0.3117 val_accuracy:0.9108\n",
      "epoch:06 train_loss:0.3596 val_loss:0.2959 val_accuracy:0.9160\n",
      "epoch:07 train_loss:0.2818 val_loss:0.2817 val_accuracy:0.9198\n",
      "epoch:08 train_loss:0.2877 val_loss:0.2713 val_accuracy:0.9237\n",
      "epoch:09 train_loss:0.3340 val_loss:0.2609 val_accuracy:0.9254\n",
      "epoch:10 train_loss:0.2545 val_loss:0.2516 val_accuracy:0.9291\n"
     ]
    }
   ],
   "source": [
    "import numpy as np\n",
    "from chainer.dataset import concat_examples\n",
    "\n",
    "max_epoch = 10\n",
    "\n",
    "while train_iter.epoch < max_epoch:\n",
    "\n",
    "    # ---------- 学習の1イテレーション ----------\n",
    "    train_batch = train_iter.next()\n",
    "    x, t = concat_examples(train_batch, -1)\n",
    "\n",
    "    # 予測値の計算\n",
    "    y = model(x)\n",
    "\n",
    "    # ロスの計算\n",
    "    loss = F.softmax_cross_entropy(y, t)\n",
    "\n",
    "    # 勾配の計算\n",
    "    model.cleargrads()\n",
    "    loss.backward()\n",
    "\n",
    "    # パラメータの更新\n",
    "    optimizer.update()\n",
    "    # --------------- ここまで ----------------\n",
    "\n",
    "    # 1エポック終了ごとにValidationデータに対する予測精度を測って、\n",
    "    # モデルの汎化性能が向上していることをチェックしよう\n",
    "    if train_iter.is_new_epoch:  # 1 epochが終わったら\n",
    "\n",
    "        # ロスの表示\n",
    "        print('epoch:{:02d} train_loss:{:.04f} '.format(\n",
    "            train_iter.epoch, float(loss.data)), end='')\n",
    "\n",
    "        test_losses = []\n",
    "        test_accuracies = []\n",
    "        while True:\n",
    "            test_batch = test_iter.next()\n",
    "            x_test, t_test = concat_examples(test_batch, -1)\n",
    "\n",
    "            # テストデータをforward\n",
    "            y_test = model(x_test)\n",
    "\n",
    "            # ロスを計算\n",
    "            loss_test = F.softmax_cross_entropy(y_test, t_test)\n",
    "            test_losses.append(loss_test.data)\n",
    "\n",
    "            # 精度を計算\n",
    "            accuracy = F.accuracy(y_test, t_test)\n",
    "            accuracy.to_cpu()\n",
    "            test_accuracies.append(accuracy.data)\n",
    "\n",
    "            if test_iter.is_new_epoch:\n",
    "                test_iter.epoch = 0\n",
    "                test_iter.current_position = 0\n",
    "                test_iter.is_new_epoch = False\n",
    "                test_iter._pushed_position = None\n",
    "                break\n",
    "\n",
    "        print('val_loss:{:.04f} val_accuracy:{:.04f}'.format(\n",
    "            np.mean(test_losses), np.mean(test_accuracies)))"
   ]
  },
  {
   "cell_type": "markdown",
   "metadata": {
    "collapsed": true
   },
   "source": [
    "val_accuracyをみると、0.93近くの値になっている。シンプルな3層ネットワークでも、93%の認識率が出ているようだ。"
   ]
  },
  {
   "cell_type": "markdown",
   "metadata": {},
   "source": [
    "# 4. 学習したモデルを使う"
   ]
  },
  {
   "cell_type": "markdown",
   "metadata": {},
   "source": [
    "学習を行ったら、そのモデルを保存しておき、実際に分類を行うときに\n",
    "保存したモデルを読み込んで使用する。\n",
    "\n",
    "## モデルの保存\n",
    "モデルを保存するための形式はHDF5とNumpyのNPZが選べる。HDF5形式のほうが汎用性があるが、今回は簡単のため追加ライブラリの不要なNPZで保存しよう。"
   ]
  },
  {
   "cell_type": "code",
   "execution_count": 9,
   "metadata": {},
   "outputs": [
    {
     "name": "stdout",
     "output_type": "stream",
     "text": [
      "-rw-rw-r-- 1 aslguest aslguest 333915 10月  3 11:37 my_mnist.model\r\n"
     ]
    }
   ],
   "source": [
    "from chainer import serializers\n",
    "\n",
    "serializers.save_npz('my_mnist.model', model)\n",
    "\n",
    "# ちゃんと保存されていることを確認\n",
    "%ls -la my_mnist.model"
   ]
  },
  {
   "cell_type": "markdown",
   "metadata": {},
   "source": [
    "## モデルの読み込みと使用\n",
    "\n",
    "上で保存したNPZファイルを読み込んで、テストデータに対するラベルの予測を行ってみる。\n",
    "保存したNPZファイルにはMLPモデルのパラメータが記録されているので、\n",
    "まずはモデルのオブジェクトを生成し、そのなかにNPZが持っている値を書き込むことで、\n",
    "読み出しを実現する。\n"
   ]
  },
  {
   "cell_type": "code",
   "execution_count": 10,
   "metadata": {},
   "outputs": [
    {
     "data": {
      "image/png": "[encoded data removed]",
      "text/plain": [
       "<matplotlib.figure.Figure at 0x7f337940dfd0>"
      ]
     },
     "metadata": {},
     "output_type": "display_data"
    },
    {
     "name": "stdout",
     "output_type": "stream",
     "text": [
      "label: 7\n"
     ]
    }
   ],
   "source": [
    "# まず同じモデルのオブジェクトを作る\n",
    "infer_model = MLP()\n",
    "\n",
    "# そのオブジェクトに保存済みパラメータをロードする\n",
    "serializers.load_npz('my_mnist.model', infer_model)\n",
    "\n",
    "# テストデータ\n",
    "x, t = test[0]\n",
    "plt.imshow(x.reshape(28, 28), cmap='gray')\n",
    "plt.show()\n",
    "print('label:', t)"
   ]
  },
  {
   "cell_type": "markdown",
   "metadata": {},
   "source": [
    "これで、学習->保存->推論ができた。\n",
    "時間のかかる学習も一度やっておけば、モデルの保存と読み出しを行うことで、推論をすることができる。"
   ]
  },
  {
   "cell_type": "markdown",
   "metadata": {},
   "source": [
    "## GPUの利用"
   ]
  },
  {
   "cell_type": "code",
   "execution_count": null,
   "metadata": {
    "collapsed": true
   },
   "outputs": [],
   "source": []
  },
  {
   "cell_type": "markdown",
   "metadata": {},
   "source": [
    "学習時間を短縮するために、GPUを利用しよう。\n",
    "\n",
    "GPUはPCとPCI Expressインターフェイスで接続されていて、CPUとは異なるメモリをつかう。\n",
    "GPUに計算をさせるためには、CPUとGPUのデータのやりとりを少し書かなければならない。\n",
    "\n",
    "モデルはChainのサブクラスで定義したクラスであった。この、モデルをGPUで実行させるために、インスタンスに`to_gpu()`メソッドで\n",
    "GPUで実行させるための指示をする。GPUは0から始まるidで管理されている。`to_gpu()`メソッドを呼び出すときに、GPUのIDを渡す。"
   ]
  },
  {
   "cell_type": "code",
   "execution_count": 11,
   "metadata": {},
   "outputs": [
    {
     "data": {
      "text/plain": [
       "<__main__.MLP at 0x7f337941b080>"
      ]
     },
     "execution_count": 11,
     "metadata": {},
     "output_type": "execute_result"
    }
   ],
   "source": [
    "gpu_id=0\n",
    "gpu_model = MLP()\n",
    "gpu_model.to_gpu(gpu_id)"
   ]
  },
  {
   "cell_type": "markdown",
   "metadata": {},
   "source": [
    "次に、乱数の生成系列の固定を行う。この操作は必須ではないが、実行するたびに異なる結果が出力されることを防ぐ効果があり、実験をする場合には便利である。"
   ]
  },
  {
   "cell_type": "code",
   "execution_count": 12,
   "metadata": {
    "collapsed": true
   },
   "outputs": [],
   "source": [
    "import numpy\n",
    "numpy.random.seed(0)\n",
    "import chainer\n",
    "if chainer.cuda.available:\n",
    "    chainer.cuda.cupy.random.seed(0)"
   ]
  },
  {
   "cell_type": "markdown",
   "metadata": {},
   "source": [
    "次に、optimizerの設定と、訓練ループを示す。optimizerの設定は変更がないが、訓練ループでは、結果の表示にGPUからCPUへデータを転送するための関数`to_cpu()`を使っていることに気をつけること。"
   ]
  },
  {
   "cell_type": "code",
   "execution_count": 13,
   "metadata": {},
   "outputs": [
    {
     "name": "stdout",
     "output_type": "stream",
     "text": [
      "epoch:01 train_loss:0.7327 val_loss:0.7453 val_accuracy:0.8357\n",
      "epoch:02 train_loss:0.3664 val_loss:0.4452 val_accuracy:0.8822\n",
      "epoch:03 train_loss:0.4008 val_loss:0.3721 val_accuracy:0.8985\n",
      "epoch:04 train_loss:0.3041 val_loss:0.3315 val_accuracy:0.9090\n",
      "epoch:05 train_loss:0.2769 val_loss:0.3088 val_accuracy:0.9124\n",
      "epoch:06 train_loss:0.2982 val_loss:0.2934 val_accuracy:0.9157\n",
      "epoch:07 train_loss:0.2013 val_loss:0.2802 val_accuracy:0.9190\n",
      "epoch:08 train_loss:0.2289 val_loss:0.2682 val_accuracy:0.9226\n",
      "epoch:09 train_loss:0.3878 val_loss:0.2589 val_accuracy:0.9243\n",
      "epoch:10 train_loss:0.2515 val_loss:0.2497 val_accuracy:0.9269\n"
     ]
    }
   ],
   "source": [
    "from chainer.cuda import to_cpu\n",
    "import chainer.links as L\n",
    "import chainer.functions as F\n",
    "\n",
    "batchsize = 128\n",
    "\n",
    "train_iter = iterators.SerialIterator(train, batchsize)\n",
    "test_iter = iterators.SerialIterator(test, batchsize,\n",
    "                                     repeat=False, shuffle=False)\n",
    "\n",
    "gpu_opt = optimizers.SGD(lr=0.01)\n",
    "gpu_opt.setup(gpu_model)\n",
    "\n",
    "max_epoch = 10\n",
    "\n",
    "while train_iter.epoch < max_epoch:\n",
    "\n",
    "    # ---------- 学習の1イテレーション ----------\n",
    "    train_batch = train_iter.next()\n",
    "    x, t = concat_examples(train_batch, gpu_id)  # GPUに訓練データを転送する\n",
    "\n",
    "    # 予測値の計算\n",
    "    y = gpu_model(x)\n",
    "\n",
    "    # ロスの計算\n",
    "    loss = F.softmax_cross_entropy(y, t)\n",
    "\n",
    "    \n",
    "    # 勾配の計算\n",
    "    gpu_model.cleargrads()\n",
    "    loss.backward()\n",
    "\n",
    "    # パラメータの更新\n",
    "    gpu_opt.update()\n",
    "    # --------------- ここまで ----------------\n",
    "\n",
    "    # 1エポック終了ごとにValidationデータに対する予測精度を測って、\n",
    "    # モデルの汎化性能が向上していることをチェックしよう\n",
    "    if train_iter.is_new_epoch:  # 1 epochが終わったら\n",
    "\n",
    "        # ロスの表示\n",
    "        print('epoch:{:02d} train_loss:{:.04f} '.format(\n",
    "            train_iter.epoch, float(to_cpu(loss.data))), end='') # loss.dataはGPUからCPUへ転送されている\n",
    "\n",
    "        test_losses = []\n",
    "        test_accuracies = []\n",
    "        while True:\n",
    "            test_batch = test_iter.next()\n",
    "            x_test, t_test = concat_examples(test_batch, gpu_id) #テストデータをGPUに転送する\n",
    "\n",
    "            # テストデータをforward\n",
    "            y_test = gpu_model(x_test)\n",
    "\n",
    "            # ロスを計算\n",
    "            loss_test = F.softmax_cross_entropy(y_test, t_test)\n",
    "            test_losses.append(to_cpu(loss_test.data)) # loss.dataはGPUからCPUへ転送されている\n",
    "\n",
    "            # 精度を計算\n",
    "            accuracy = F.accuracy(y_test, t_test)\n",
    "            accuracy.to_cpu() # accuracyはGPUからCPUに転送されている\n",
    "            test_accuracies.append(accuracy.data)\n",
    "\n",
    "            if test_iter.is_new_epoch:\n",
    "                test_iter.epoch = 0\n",
    "                test_iter.current_position = 0\n",
    "                test_iter.is_new_epoch = False\n",
    "                test_iter._pushed_position = None\n",
    "                break\n",
    "\n",
    "        print('val_loss:{:.04f} val_accuracy:{:.04f}'.format(\n",
    "            np.mean(test_losses), np.mean(test_accuracies))) "
   ]
  },
  {
   "cell_type": "markdown",
   "metadata": {
    "collapsed": true
   },
   "source": [
    "GPUでの実行を最適化していないので速度向上は少なかったが、結果を得ることができた。"
   ]
  },
  {
   "cell_type": "markdown",
   "metadata": {},
   "source": [
    "# まとめ"
   ]
  },
  {
   "cell_type": "markdown",
   "metadata": {},
   "source": [
    "ここではChainarの練習として、MNISTデータを読み込んで、3層のニューラルネットで学習を行った。\n",
    "また、学習したパラメータ（重み）の保存と読み込み、GPU上での実行も行った。"
   ]
  },
  {
   "cell_type": "code",
   "execution_count": null,
   "metadata": {
    "collapsed": true
   },
   "outputs": [],
   "source": []
  }
 ],
 "metadata": {
  "kernelspec": {
   "display_name": "Python 3",
   "language": "python",
   "name": "python3"
  },
  "language_info": {
   "codemirror_mode": {
    "name": "ipython",
    "version": 3
   },
   "file_extension": ".py",
   "mimetype": "text/x-python",
   "name": "python",
   "nbconvert_exporter": "python",
   "pygments_lexer": "ipython3",
   "version": "3.6.1"
  }
 },
 "nbformat": 4,
 "nbformat_minor": 2
}

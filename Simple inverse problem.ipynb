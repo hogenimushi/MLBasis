{
 "cells": [
  {
   "cell_type": "markdown",
   "metadata": {},
   "source": [
    "逆問題を解いてみよう\n",
    "===\n",
    "by ほげにむし\n",
    "\n",
    "逆問題の例として、参考文献[1]に掲載されている以下のような問題を考えてみよう。\n"
   ]
  },
  {
   "cell_type": "markdown",
   "metadata": {},
   "source": [
    "魔法陣逆問題\n",
    "---\n",
    "---\n",
    "9個のセルが以下のように並んでいる。9個のセルの中身を直接見ることはできないが、\n",
    "セルの集まりの、水平、垂直、対角線方向、の和を求めることはできるとする。\n",
    "\n",
    "\n",
    "$$ \\begin{array}{ccc} x_1& x_2 & x_3 \\\\x_4 & x_5 & x_6 \\\\x_7 & x_8 & x_9\\\\ \\end{array}  $$\n",
    "\n",
    "\n",
    "この和を観測値、ということにする。観測値は全部で16個あるが、\n",
    "- いくつかが読み取れない\n",
    "- ノイズが乗っている\n",
    "\n",
    "場合がある。\n",
    "\n",
    "この時に、個々のセルの値に近い値を求めることができるだろうか？\n",
    "できるとすれば、どの程度正しい値が得られるだろうか？\n",
    "\n",
    "---\n",
    "\n",
    "この問題を解くために、状況を少し整理しよう。\n",
    "周辺からの観測値を$b_i$とすると、セル$x_j$との関係は、以下のようになる。\n"
   ]
  },
  {
   "cell_type": "markdown",
   "metadata": {},
   "source": [
    "１．左から右にセルを加算する場合\n",
    "\n",
    "$b_1=x_1+x_2+x_3$\n",
    "\n",
    "$b_2=x_4+x_5+x_6$\n",
    "\n",
    "$b_3=x_7+x_8+x_9$\n",
    "\n",
    "２．右上から左下にセルを加算する場合\n",
    "\n",
    "$b_4=x_1$\n",
    "\n",
    "$b_5=x_2 + x_4$\n",
    "\n",
    "$b_6=x_3 + x_5 + x_7$\n",
    "\n",
    "$b_7=x_6 + x_8$\n",
    "\n",
    "$b_8=x_9$\n",
    "\n",
    "３．上から下にセルを加算する場合\n",
    "\n",
    "$b_9=x_1 + x_4 + x_7$\n",
    "\n",
    "$b_{10}=x_2 + x_5 + x_8$\n",
    "\n",
    "$b_{11}=x_3 + x_6 + x_9$\n",
    "\n",
    "４．左上から右下にセルを加算する場合\n",
    "\n",
    "$b_{12}=x_7$\n",
    "\n",
    "$b_{13}=x_4 + x_8$\n",
    "\n",
    "$b_{14}=x_1 + x_5 + x_9$\n",
    "\n",
    "$b_{15}=x_2 + x_6$\n",
    "\n",
    "$b_{16}=x_3$\n",
    "\n",
    "さて、これらの和が与えられたときに、個々のセルの値を求めるためには、\n",
    "どのようにすればよいだろうか？\n",
    "\n"
   ]
  },
  {
   "cell_type": "markdown",
   "metadata": {},
   "source": [
    "## NumPyによる解法"
   ]
  },
  {
   "cell_type": "markdown",
   "metadata": {},
   "source": [
    "${\\bf A}\\in {\\bf R}^{16\\times 9}$、${\\bf x}\\in {\\bf R}^9$、 ${\\bf b}\\in {\\bf R}^{16}$、\n",
    "として、係数行列、セルの内容、観測値に対応する配列を作ろう。\n",
    "今回は記号演算の必要がないのでNumPyを用いる。\n",
    "\n",
    "まずは係数の行列をつくる。今回は数が少ないので力業でやってみる。"
   ]
  },
  {
   "cell_type": "code",
   "execution_count": 2,
   "metadata": {
    "collapsed": true
   },
   "outputs": [
    {
     "data": {
      "text/plain": [
       "array([[ 1.,  1.,  1.,  0.,  0.,  0.,  0.,  0.,  0.],\n",
       "       [ 0.,  0.,  0.,  1.,  1.,  1.,  0.,  0.,  0.],\n",
       "       [ 0.,  0.,  0.,  0.,  0.,  0.,  1.,  1.,  1.],\n",
       "       [ 1.,  0.,  0.,  0.,  0.,  0.,  0.,  0.,  0.],\n",
       "       [ 0.,  1.,  0.,  1.,  0.,  0.,  0.,  0.,  0.],\n",
       "       [ 1.,  0.,  0.,  0.,  1.,  0.,  0.,  0.,  1.],\n",
       "       [ 0.,  0.,  0.,  0.,  1.,  0.,  0.,  0.,  1.],\n",
       "       [ 0.,  0.,  0.,  0.,  0.,  0.,  0.,  0.,  1.],\n",
       "       [ 1.,  0.,  0.,  1.,  0.,  0.,  1.,  0.,  0.],\n",
       "       [ 0.,  1.,  0.,  0.,  1.,  0.,  0.,  1.,  0.],\n",
       "       [ 0.,  0.,  1.,  0.,  0.,  1.,  0.,  0.,  1.],\n",
       "       [ 0.,  0.,  0.,  0.,  0.,  0.,  1.,  0.,  0.],\n",
       "       [ 0.,  0.,  0.,  1.,  0.,  0.,  0.,  1.,  0.],\n",
       "       [ 1.,  0.,  0.,  0.,  1.,  0.,  0.,  0.,  1.],\n",
       "       [ 0.,  1.,  0.,  0.,  0.,  1.,  0.,  0.,  0.],\n",
       "       [ 0.,  0.,  1.,  0.,  0.,  0.,  0.,  0.,  0.]])"
      ]
     },
     "execution_count": 2,
     "metadata": {},
     "output_type": "execute_result"
    }
   ],
   "source": [
    "import numpy as np\n",
    "A = np.array([[1.0,1,1,0,0,0,0,0,0],\n",
    "                [0,0,0,1,1,1,0,0,0],\n",
    "                [0,0,0,0,0,0,1,1,1],\n",
    "                [1,0,0,0,0,0,0,0,0],\n",
    "                [0,1,0,1,0,0,0,0,0],\n",
    "                [1,0,0,0,1,0,0,0,1],\n",
    "                [0,0,0,0,1,0,0,0,1],\n",
    "                [0,0,0,0,0,0,0,0,1],\n",
    "                [1,0,0,1,0,0,1,0,0],\n",
    "                [0,1,0,0,1,0,0,1,0],\n",
    "                [0,0,1,0,0,1,0,0,1],\n",
    "                [0,0,0,0,0,0,1,0,0],\n",
    "                [0,0,0,1,0,0,0,1,0],\n",
    "                [1,0,0,0,1,0,0,0,1],\n",
    "                [0,1,0,0,0,1,0,0,0],\n",
    "                [0,0,1,0,0,0,0,0,0]])\n",
    "A"
   ]
  },
  {
   "cell_type": "markdown",
   "metadata": {},
   "source": [
    "型をfloatの配列とするために、先頭の要素だけ$1.0$とした。\n",
    "この大きさの行列、入力するのはともかく、チェックが意外と大変である。後々、$m\\times n$の一般の長方形形状のセルの集合に対応したい。これは、課題としてとっておこう。"
   ]
  },
  {
   "cell_type": "markdown",
   "metadata": {},
   "source": [
    "では、個々のセルの値を\n",
    "$$\n",
    "\\begin{array}{ccc}\n",
    "1 & 2 & 3 \\\\\n",
    "4 & 5 & 6 \\\\\n",
    "7 & 8 & 9\n",
    "\\end{array}\n",
    "$$\n",
    "と考えて、答えのベクトル${\\bf x}$を作ろう。何の変哲もない並びだが、確認にはよかろう。"
   ]
  },
  {
   "cell_type": "code",
   "execution_count": 5,
   "metadata": {
    "collapsed": false
   },
   "outputs": [
    {
     "data": {
      "text/plain": [
       "array([ 1.,  2.,  3.,  4.,  5.,  6.,  7.,  8.,  9.])"
      ]
     },
     "execution_count": 5,
     "metadata": {},
     "output_type": "execute_result"
    }
   ],
   "source": [
    "x = np.array([1.0, 2, 3, 4, 5, 6, 7, 8, 9])\n",
    "x"
   ]
  },
  {
   "cell_type": "markdown",
   "metadata": {},
   "source": [
    "このセル群を縦、横、斜めから見た時の和を計算するにはどうするのだろうか？\n",
    "\n",
    "先ほど定義した行列 ${\\bf A}$ は、 ${\\bf x}$ が入力されたときに和の取り方を示したものなので、\n",
    "単純に行列とベクトルの掛け算をすればよいはずである。\n",
    "\n",
    "行列とベクトル、ベクトルとベクトルの積は、NumPyのdot関数で行う。実際にやってみよう。\n"
   ]
  },
  {
   "cell_type": "code",
   "execution_count": 6,
   "metadata": {
    "collapsed": false
   },
   "outputs": [
    {
     "data": {
      "text/plain": [
       "array([  6.,  15.,  24.,   1.,   6.,  15.,  14.,   9.,  12.,  15.,  18.,\n",
       "         7.,  12.,  15.,   8.,   3.])"
      ]
     },
     "execution_count": 6,
     "metadata": {},
     "output_type": "execute_result"
    }
   ],
   "source": [
    "b=A.dot(x)\n",
    "b"
   ]
  },
  {
   "cell_type": "markdown",
   "metadata": {},
   "source": [
    "和が出てきた。升目を見ながら加算を行い、このリストと見比べると、結果が意図したものと一致することがわかる。\n",
    "\n",
    "つまり、この時点で ${\\bf Ax}={\\bf b}$ のすべての要素がわかった。\n",
    "\n",
    "\n",
    "最初の問題は ${\\bf x}$ を未知として、${\\bf b}$ から求めることであった。\n",
    "これを実現するために、${\\bf A}$ の疑似逆行列を求めて、上式の左からかけよう。\n",
    "\n",
    "疑似逆行列${\\bf A}^{-}$は、${\\bf A}\\in {\\bf R}^{m\\times n}$とすると\n",
    "$$  \n",
    "{\\bf A}^{-} = \\biggl\\{\n",
    "\\begin{array}{cl}\n",
    "  ({\\bf A}^{T}{\\bf A})^{-1}{\\bf A}^{T} & {\\rm if}\\ \\  m\\gt n \\\\\n",
    "  {\\bf A}^{T}({\\bf A}{\\bf A}^{T})^{-1} & {\\rm if}\\ \\  m\\lt n \\\\\n",
    "\\end{array}\n",
    "$$\n",
    "で定義される。\n",
    "\n",
    "\n",
    "これを使って、\n",
    "${\\bf x}={\\bf A}^{-}{\\bf b}$\n",
    "として、${\\bf b}$ から ${\\bf x}$を求めよう。NumPyでは、pinv関数で疑似逆行列を求めることができる。"
   ]
  },
  {
   "cell_type": "code",
   "execution_count": 7,
   "metadata": {
    "collapsed": false
   },
   "outputs": [
    {
     "data": {
      "text/plain": [
       "array([ 1.,  2.,  3.,  4.,  5.,  6.,  7.,  8.,  9.])"
      ]
     },
     "execution_count": 7,
     "metadata": {},
     "output_type": "execute_result"
    }
   ],
   "source": [
    "Ainv=np.linalg.pinv(A)\n",
    "Ainv.dot(b)"
   ]
  },
  {
   "cell_type": "markdown",
   "metadata": {},
   "source": [
    "${\\bf x}$が元に戻った！\n",
    "\n",
    "ここで行ったことを、もう一度整理すると,\n",
    "- 係数行列${\\bf A}$を定義\n",
    "- 観測した数値列${\\bf b}$を定義\n",
    "- ${\\bf b}$ 左から疑似逆行列を乗算\n",
    "\n",
    "することで、${\\bf x}$が求まったことになる。\n",
    "\n"
   ]
  },
  {
   "cell_type": "markdown",
   "metadata": {},
   "source": [
    "## 逆問題とノイズ"
   ]
  },
  {
   "cell_type": "markdown",
   "metadata": {},
   "source": [
    "\n",
    "次に、${\\bf b}$に少しノイズを加えてみよう。\n",
    "${\\bf b}$を壊さないようにをコピーして${\\bf c}$とし、最初の要素に$1.5$を加える。\n",
    "その後、疑似逆行列を掛けて答えを求める。"
   ]
  },
  {
   "cell_type": "code",
   "execution_count": 14,
   "metadata": {
    "collapsed": false
   },
   "outputs": [
    {
     "data": {
      "text/plain": [
       "array([ 1.2293578 ,  2.29095675,  3.41153342,  3.93381389,  4.95412844,\n",
       "        5.83224115,  6.98296199,  7.9750983 ,  8.91284404])"
      ]
     },
     "execution_count": 14,
     "metadata": {},
     "output_type": "execute_result"
    }
   ],
   "source": [
    "c=np.array(b)\n",
    "c[0] += 1.5\n",
    "Ainv.dot(c)"
   ]
  },
  {
   "cell_type": "markdown",
   "metadata": {},
   "source": [
    "一つ値を変えただけで、全体の値が少しずつ変わってしまうことがわかる。\n",
    "四捨五入をするとどうだろう？"
   ]
  },
  {
   "cell_type": "code",
   "execution_count": 15,
   "metadata": {
    "collapsed": false
   },
   "outputs": [
    {
     "data": {
      "text/plain": [
       "array([ 1.,  2.,  3.,  4.,  5.,  6.,  7.,  8.,  9.])"
      ]
     },
     "execution_count": 15,
     "metadata": {},
     "output_type": "execute_result"
    }
   ],
   "source": [
    "np.rint(Ainv.dot(c))"
   ]
  },
  {
   "cell_type": "markdown",
   "metadata": {},
   "source": [
    "元の${\\bf x}$と同じであることがわかる。"
   ]
  },
  {
   "cell_type": "markdown",
   "metadata": {},
   "source": [
    "今度は異なる部分を変えてみよう。$4$番目の要素に同じ値$1.5$を加えてみよう。\n"
   ]
  },
  {
   "cell_type": "code",
   "execution_count": 18,
   "metadata": {
    "collapsed": false
   },
   "outputs": [
    {
     "data": {
      "text/plain": [
       "array([ 2.,  2.,  3.,  4.,  5.,  6.,  7.,  8.,  9.])"
      ]
     },
     "execution_count": 18,
     "metadata": {},
     "output_type": "execute_result"
    }
   ],
   "source": [
    "d=np.array(b)\n",
    "d[3]+=1.5\n",
    "np.rint(Ainv.dot(d))"
   ]
  },
  {
   "cell_type": "markdown",
   "metadata": {},
   "source": [
    "同じノイズを加えたのにもかかわらず、今度は${\\bf x}$の値が変わっってしまった。\n",
    "\n",
    "どうやら、ノイズに弱い観測値と、ノイズに強い観測値があるようである。"
   ]
  },
  {
   "cell_type": "markdown",
   "metadata": {},
   "source": [
    "## 欠損データ"
   ]
  },
  {
   "cell_type": "markdown",
   "metadata": {},
   "source": [
    "欠損データを扱うことができるようにしてみよう。\n",
    "\n",
    "${\\bf b}$の要素に NaN (not a number)が入っている場合には、このデータが欠損していると考えるとする。\n",
    "\n",
    "この時、欠損データの位置に対応する係数行列${\\bf A}$の行を削除し、${\\bf b}$の欠損データ自体も消してしまうこととする。\n",
    "こうすれば、欠損データとそれに対応する方程式がなかったことになる。\n",
    "\n",
    "NumPy配列のdelete関数を使ってこれを実現するが、添え字を後ろから処理していることに注意しよう。"
   ]
  },
  {
   "cell_type": "code",
   "execution_count": 36,
   "metadata": {
    "collapsed": false
   },
   "outputs": [],
   "source": [
    "def magic_square3(coef, b):\n",
    "    A = np.array(coef)\n",
    "    s = np.array(b)\n",
    "    for i in reversed(range(b.shape[0])):\n",
    "        if(np.isnan(b[i])):\n",
    "            A=np.delete(A, i, 0)\n",
    "            s=np.delete(s,i)\n",
    "    return A,s"
   ]
  },
  {
   "cell_type": "markdown",
   "metadata": {},
   "source": [
    "それでは、これを使ってみよう。\n",
    "\n",
    "${\\bf b}$ の先頭から$9$つの要素をバッサリと消して、\n",
    "対応する${\\bf A}$の行列を求める。"
   ]
  },
  {
   "cell_type": "code",
   "execution_count": 69,
   "metadata": {
    "collapsed": false
   },
   "outputs": [
    {
     "data": {
      "text/plain": [
       "(array([[ 1.,  0.,  0.,  1.,  0.,  0.,  1.,  0.,  0.],\n",
       "        [ 0.,  1.,  0.,  0.,  1.,  0.,  0.,  1.,  0.],\n",
       "        [ 0.,  0.,  1.,  0.,  0.,  1.,  0.,  0.,  1.],\n",
       "        [ 0.,  0.,  0.,  0.,  0.,  0.,  1.,  0.,  0.],\n",
       "        [ 0.,  0.,  0.,  1.,  0.,  0.,  0.,  1.,  0.],\n",
       "        [ 1.,  0.,  0.,  0.,  1.,  0.,  0.,  0.,  1.],\n",
       "        [ 0.,  1.,  0.,  0.,  0.,  1.,  0.,  0.,  0.],\n",
       "        [ 0.,  0.,  1.,  0.,  0.,  0.,  0.,  0.,  0.]]),\n",
       " array([ 12.,  15.,  18.,   7.,  12.,  15.,   8.,   3.]),\n",
       " array([ nan,  nan,  nan,  nan,  nan,  nan,  nan,  nan,  12.,  15.,  18.,\n",
       "          7.,  12.,  15.,   8.,   3.]))"
      ]
     },
     "execution_count": 69,
     "metadata": {},
     "output_type": "execute_result"
    }
   ],
   "source": [
    "e=np.array(b)\n",
    "for i in range(0,8):\n",
    "    e[i]=np.nan\n",
    "A2, e2 = magic_square3(A,e)\n",
    "A2, e2, e"
   ]
  },
  {
   "cell_type": "markdown",
   "metadata": {},
   "source": [
    "得られた${\\bf A}_2$と${\\bf e}_2$を使って、答えを求めよう。"
   ]
  },
  {
   "cell_type": "code",
   "execution_count": 48,
   "metadata": {
    "collapsed": false
   },
   "outputs": [
    {
     "data": {
      "text/plain": [
       "array([ 1.,  2.,  3.,  4.,  5.,  6.,  7.,  8.,  9.])"
      ]
     },
     "execution_count": 48,
     "metadata": {},
     "output_type": "execute_result"
    }
   ],
   "source": [
    "np.linalg.pinv(A2).dot(e2)"
   ]
  },
  {
   "cell_type": "markdown",
   "metadata": {},
   "source": [
    "答えが一致した！\n",
    "\n",
    "この時、行列のランクは以下のようにして求めることができる。"
   ]
  },
  {
   "cell_type": "code",
   "execution_count": 50,
   "metadata": {
    "collapsed": false
   },
   "outputs": [
    {
     "data": {
      "text/plain": [
       "7"
      ]
     },
     "execution_count": 50,
     "metadata": {},
     "output_type": "execute_result"
    }
   ],
   "source": [
    "np.linalg.matrix_rank(A2)"
   ]
  },
  {
   "cell_type": "markdown",
   "metadata": {},
   "source": [
    "$9$つの未知数に対して、ランクが$7$であるので、方程式を解いただけでは解は定まらないはずである。\n",
    "\n",
    "しかし、疑似逆行列を使うことによって、解を得ることができた！\n",
    "\n",
    "もっと観測データを減らすとどうなるだろうか？"
   ]
  },
  {
   "cell_type": "code",
   "execution_count": 70,
   "metadata": {
    "collapsed": false
   },
   "outputs": [
    {
     "data": {
      "text/plain": [
       "(array([ nan,  nan,  nan,  nan,  nan,  nan,  nan,  nan,  nan,  nan,  18.,\n",
       "          7.,  12.,  15.,   8.,   3.]),\n",
       " array([ 3.,  1.,  3.,  6.,  3.,  7.,  7.,  6.,  8.]))"
      ]
     },
     "execution_count": 70,
     "metadata": {},
     "output_type": "execute_result"
    }
   ],
   "source": [
    "f=np.array(b)\n",
    "for i in range(0,10):\n",
    "    f[i]=np.nan\n",
    "A3, f2 = magic_square3(A,f)\n",
    "f, np.rint(np.linalg.pinv(A3).dot(f2))"
   ]
  },
  {
   "cell_type": "markdown",
   "metadata": {},
   "source": [
    "さすがに、データ数が$6$つだと少なすぎるようである。\n",
    "\n",
    "欠損している観測値の数や位置と、推定するセルの値には、どのような関係があるのだろうか？"
   ]
  },
  {
   "cell_type": "markdown",
   "metadata": {},
   "source": [
    "## まとめ"
   ]
  },
  {
   "cell_type": "markdown",
   "metadata": {},
   "source": [
    "ここでは、逆問題の例として、正方形状に並べられたセルの値を、周辺からの観測値によって推定する問題を取り上げた。\n",
    "また、この問題をNumPyを使って解く方法と、ノイズと欠損値による解への影響を調べる方法を示した。"
   ]
  },
  {
   "cell_type": "markdown",
   "metadata": {
    "collapsed": true
   },
   "source": [
    "## 宿題"
   ]
  },
  {
   "cell_type": "markdown",
   "metadata": {},
   "source": [
    "国内の固定電話の電話番号は\n",
    "\n",
    "|国内プレフィックス| 市外局番・市内局番 | 加入者番号|\n",
    "|---|---|---|\n",
    "|0| 計5桁 | 4桁 |\n",
    "\n",
    "で表現されている。\n",
    "\n",
    "Web上で公開されている国内の固定電話の電話番号を3つ選び、\n",
    "それぞれの番号に対してnanの要素がなるべく増えるように以下の操作を行う。\n",
    "\n",
    "1. 国内プレフィックスをのぞいた9桁の電話番号を左上から右下に配置する。\n",
    "2. 観測値を生成する\n",
    "2. 生成した観測値のいくつかの要素をnanにする\n",
    "3. 元の電話番号に戻るかを確認する\n",
    "\n",
    "つまり、電話番号を最小の要素数で表現する、ということである。\n",
    "この表現を得た後、以下の問いに答えよ。\n",
    "\n",
    "\n",
    "問題１\n",
    "---\n",
    "それぞれの電話番号と、電話番号に対してなるべくnanの数が多くなるように\n",
    "作成した観測値のベクトルを報告せよ。\n",
    "\n",
    "問題２\n",
    "---\n",
    "それぞれの電話番号と、nanに置き換えた観測値の位置は同じだろうか？異なるだろうか？\n",
    "\n",
    "同じ・あるいは異なる理由を、自分なりに考えて答えよ。この理由は数学的に厳密でなくてもよい。\n",
    "\n",
    "問題３\n",
    "---\n",
    "それぞれの電話番号に対する、要素の数を減らす前と減らした後の観測値のベクトルを考える。\n",
    "これらの同じ位置の要素に同じノイズを加えてみよ。また、大きさも変えてみよ。\n",
    "\n",
    "加えたノイズとその影響を説明し、なぜそうなるのか理由を自分なりに考えて答えよ。\n",
    "この理由は数学的に厳密でなくてもよい。\n",
    "\n",
    "問題４\n",
    "---\n",
    "以下は電話番号から離れて、逆魔法陣問題そのものに関する設問である。\n",
    "問いに答えよ。\n",
    "\n",
    "1. $n\\times n \\ \\ (n=1,2,\\cdots )$ のセルに対する観測値はいくつになるだろうか？\n",
    "1. $n$ を増やしていったときに、セルの数と観測値の数はどのような関係になるだろうか？\n",
    "また、$n$が増加したときに、逆魔法陣問題は問題として成り立つだろうか？\n",
    "\n",
    "問題５\n",
    "---\n",
    "\n",
    "逆魔法陣問題を拡張し、以下のいずれができるような命令列を答えよ。\n",
    "1. $5\\times 5$のセルへの対応\n",
    "1. $n\\times n$のセルへの対応\n",
    "1. $m\\times n$のセルへの対応\n",
    "\n",
    "参考文献\n",
    "---\n",
    "1. 小國健二，「応用例で学ぶ逆問題と計測」，オーム社，2011年, pp. 3-19\n",
    "1. 総務省，「電話番号に関するQ&A」，< http://www.soumu.go.jp/main_sosiki/joho_tsusin/top/tel_number/q_and_a.html#q2 >，（参照2004-8-4）\n",
    "\n"
   ]
  },
  {
   "cell_type": "code",
   "execution_count": null,
   "metadata": {
    "collapsed": true
   },
   "outputs": [],
   "source": []
  }
 ],
 "metadata": {
  "kernelspec": {
   "display_name": "Python 3",
   "language": "python",
   "name": "python3"
  },
  "language_info": {
   "codemirror_mode": {
    "name": "ipython",
    "version": 3
   },
   "file_extension": ".py",
   "mimetype": "text/x-python",
   "name": "python",
   "nbconvert_exporter": "python",
   "pygments_lexer": "ipython3",
   "version": "3.6.0"
  }
 },
 "nbformat": 4,
 "nbformat_minor": 2
}

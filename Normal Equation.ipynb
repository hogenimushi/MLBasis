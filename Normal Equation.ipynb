{
 "cells": [
  {
   "cell_type": "markdown",
   "metadata": {},
   "source": [
    "直線のあてはめ\n",
    "===\n",
    "by ほげにむし\n",
    "\n",
    "---\n",
    "$N$個のデータ : $(x_1,y_1), \\cdots (x_N, y_N)$ \n",
    "\n",
    "---\n",
    "\n",
    "\n",
    "これによく合う直線をあてはめたい。\n",
    "\n",
    "正規方程式を使う\n",
    "---\n",
    "\n"
   ]
  },
  {
   "cell_type": "markdown",
   "metadata": {},
   "source": [
    "まずは、データを作ろう"
   ]
  },
  {
   "cell_type": "code",
   "execution_count": 1,
   "metadata": {
    "collapsed": true
   },
   "outputs": [],
   "source": [
    "import pandas as pd\n",
    "import numpy as np\n",
    "iron_data =pd.DataFrame( {'密度'    :[2.8, 2.9, 3.0, 3.1, 3.2, 3.2, 3.2, 3.3, 3.4], \n",
    "                         '鉄含有量':[ 30,  26,  33,  31,  33,  35,  37,  36,  33]})"
   ]
  },
  {
   "cell_type": "markdown",
   "metadata": {},
   "source": [
    "今回はNumPyの配列を使う。pandasのデータフレームから出てくるのはNumPyの配列である。\n",
    "\n",
    "一方Pythonで使えるリストの内包表記はリストを返してくるので、array関数でNumPyのarrayに変換する。"
   ]
  },
  {
   "cell_type": "code",
   "execution_count": 2,
   "metadata": {
    "collapsed": false
   },
   "outputs": [
    {
     "data": {
      "text/plain": [
       "(array([ 2.8,  2.9,  3. ,  3.1,  3.2,  3.2,  3.2,  3.3,  3.4]),\n",
       " array([  7.84,   8.41,   9.  ,   9.61,  10.24,  10.24,  10.24,  10.89,\n",
       "         11.56]))"
      ]
     },
     "execution_count": 2,
     "metadata": {},
     "output_type": "execute_result"
    }
   ],
   "source": [
    "x=iron_data['密度'].values\n",
    "x2=np.array([x**2 for x in iron_data['密度']])\n",
    "x, x2"
   ]
  },
  {
   "cell_type": "markdown",
   "metadata": {},
   "source": [
    "配列の要素が内包表記によって計算され、リストに格納された。for文を使うよりも簡便である。\n",
    "arrayの要素をすべて足す、sum関数を使ってみよう。"
   ]
  },
  {
   "cell_type": "code",
   "execution_count": 3,
   "metadata": {
    "collapsed": false
   },
   "outputs": [
    {
     "data": {
      "text/plain": [
       "88.030000000000015"
      ]
     },
     "execution_count": 3,
     "metadata": {},
     "output_type": "execute_result"
    }
   ],
   "source": [
    "sum(x2)"
   ]
  },
  {
   "cell_type": "markdown",
   "metadata": {},
   "source": [
    "同様に、鉄含有量に対しても配列を求めておく。今度は、NumPyの配列演算機能を使おう。"
   ]
  },
  {
   "cell_type": "code",
   "execution_count": 4,
   "metadata": {
    "collapsed": false
   },
   "outputs": [
    {
     "data": {
      "text/plain": [
       "(array([30, 26, 33, 31, 33, 35, 37, 36, 33], dtype=int64),\n",
       " array([ 900,  676, 1089,  961, 1089, 1225, 1369, 1296, 1089], dtype=int64))"
      ]
     },
     "execution_count": 4,
     "metadata": {},
     "output_type": "execute_result"
    }
   ],
   "source": [
    "y= iron_data['鉄含有量'].values\n",
    "y2=y*y\n",
    "y, y2"
   ]
  },
  {
   "cell_type": "markdown",
   "metadata": {},
   "source": [
    "y*yは各要素を2乗したベクトルになる。内包表記より簡便な書き方になった。\n",
    "\n",
    "さて、これを使って、正規方程式を記述しよう。\n",
    "$${\\bf A}=\\left( \n",
    "\\begin{array}{ccc}\n",
    " \\sum_i x_i^2 & \\sum_i x_i \\\\\n",
    " \\sum_i x_i   & \\sum_i 1   \\\\\n",
    "\\end{array}\n",
    "\\right)\n",
    "$$\n",
    "$$ {\\bf b} = \\left(\n",
    "\\begin{array}{c}\n",
    "    \\sum_i x_iy_i \\\\\n",
    "    \\sum_i y_i    \\\\\n",
    "\\end{array} \\right)\n",
    "$$\n",
    "\n",
    "とすると、\n",
    "\n",
    "$$ {\\bf A} \\left( \\begin{array}{c} a\\\\ b\\\\ \\end{array}\\right) = {\\bf b}$$\n",
    "を$a$と$b$に関して解けばよいことになる。\n",
    "\n",
    "まず、行列を作ろう。"
   ]
  },
  {
   "cell_type": "code",
   "execution_count": 6,
   "metadata": {
    "collapsed": false
   },
   "outputs": [
    {
     "data": {
      "text/plain": [
       "array([  84. ,   75.4,   99. ,   96.1,  105.6,  112. ,  118.4,  118.8,\n",
       "        112.2])"
      ]
     },
     "execution_count": 6,
     "metadata": {},
     "output_type": "execute_result"
    }
   ],
   "source": [
    "A=np.array([[sum(x2), sum(x)], [sum(x), x.shape[0]]])\n",
    "A\n",
    "x*y\n"
   ]
  },
  {
   "cell_type": "markdown",
   "metadata": {},
   "source": [
    "x.shape[0]は、xの最初の次元の大きさを意味する。この場合はxの要素数である。\n",
    "$\\sum_i1$を意味することになる。\n",
    "x\n",
    "次は、ベクトルである。sum(x*y)で、$\\mathbf{x}$、$\\mathbf{y}$のそれぞれの要素を乗算してベクトルを求めたのち、\n",
    "その要素をすべて加算する。"
   ]
  },
  {
   "cell_type": "code",
   "execution_count": 7,
   "metadata": {
    "collapsed": false
   },
   "outputs": [
    {
     "data": {
      "text/plain": [
       "array([ 921.5,  294. ])"
      ]
     },
     "execution_count": 7,
     "metadata": {},
     "output_type": "execute_result"
    }
   ],
   "source": [
    "b=np.array([sum(x*y),sum(y)])\n",
    "b"
   ]
  },
  {
   "cell_type": "markdown",
   "metadata": {},
   "source": [
    "行列$\\mathbf{A}$とベクトル$\\mathbf{b}$をセットすると、$\\mathbf{Ax}=\\mathbf{b}$を解き、$\\mathbf{x}$を求める関数があるので、それを使おう。"
   ]
  },
  {
   "cell_type": "code",
   "execution_count": 8,
   "metadata": {
    "collapsed": false
   },
   "outputs": [
    {
     "data": {
      "text/plain": [
       "array([ 12.06766917,  -5.0112782 ])"
      ]
     },
     "execution_count": 8,
     "metadata": {},
     "output_type": "execute_result"
    }
   ],
   "source": [
    "解=np.linalg.solve(A, b)\n",
    "解"
   ]
  },
  {
   "cell_type": "markdown",
   "metadata": {},
   "source": [
    "傾きと切片が求まったので、データと一緒にプロットしてみよう。"
   ]
  },
  {
   "cell_type": "code",
   "execution_count": 11,
   "metadata": {
    "collapsed": false
   },
   "outputs": [
    {
     "data": {
      "text/plain": [
       "[<matplotlib.lines.Line2D at 0x16c90429f98>]"
      ]
     },
     "execution_count": 11,
     "metadata": {},
     "output_type": "execute_result"
    },
    {
     "data": {
      "image/png": "[encoded data removed]",
      "text/plain": [
       "<matplotlib.figure.Figure at 0x16c911a2198>"
      ]
     },
     "metadata": {},
     "output_type": "display_data"
    }
   ],
   "source": [
    "%matplotlib inline\n",
    "import matplotlib.pyplot as plt\n",
    "import seaborn as sns\n",
    "\n",
    "iron_data.plot(kind='scatter',x='密度',y='鉄含有量')\n",
    "inx=np.arange(0, 5, 0.1)\n",
    "a,b, =解\n",
    "plt.plot(inx, a*inx+ b, color='k'  )"
   ]
  },
  {
   "cell_type": "markdown",
   "metadata": {
    "collapsed": true
   },
   "source": [
    "# まとめ "
   ]
  },
  {
   "cell_type": "markdown",
   "metadata": {},
   "source": [
    "正規方程式で問題が解けることを確認するため、\n",
    "データをNumPyで操作して正規方程式を立て、これを解くことで回帰直線を求めた。"
   ]
  },
  {
   "cell_type": "code",
   "execution_count": null,
   "metadata": {
    "collapsed": true
   },
   "outputs": [],
   "source": []
  }
 ],
 "metadata": {
  "kernelspec": {
   "display_name": "Python 3",
   "language": "python",
   "name": "python3"
  },
  "language_info": {
   "codemirror_mode": {
    "name": "ipython",
    "version": 3
   },
   "file_extension": ".py",
   "mimetype": "text/x-python",
   "name": "python",
   "nbconvert_exporter": "python",
   "pygments_lexer": "ipython3",
   "version": "3.6.0"
  }
 },
 "nbformat": 4,
 "nbformat_minor": 2
}

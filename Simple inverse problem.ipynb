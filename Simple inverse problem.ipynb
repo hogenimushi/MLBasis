{
 "cells": [
  {
   "cell_type": "markdown",
   "metadata": {},
   "source": [
    "逆問題を解いてみよう\n",
    "===\n",
    "by ほげにむし\n",
    "\n",
    "逆問題の例として、以下のような問題を考えてみよう。\n"
   ]
  },
  {
   "cell_type": "markdown",
   "metadata": {},
   "source": [
    "問題\n",
    "---\n",
    "---\n",
    "9個のセルが以下のように並んでいる。9個のセルの中身を直接見ることはできないが、\n",
    "セルの集まりの、水平、垂直、対角線方向、の和を求めることはできるとする。\n",
    "\n",
    "\n",
    "$$ \\begin{array}{ccc} x_1 x_2 x_3 \\\\x_4 x_5 x_6 \\\\x_7 x_8 x_9\\\\ \\end{array}  $$\n",
    "\n",
    "\n",
    "この和は全部で16個あるが、\n",
    "- いくつかが読み取れない\n",
    "- ノイズが乗っている\n",
    "\n",
    "場合がある。\n",
    "\n",
    "この時に、個々のセルの値に近い値を求めることができるだろうか？\n",
    "できるとすれば、どの程度正しい値が得られるだろうか？\n",
    "\n",
    "---\n",
    "\n",
    "この問題を解くために、状況を少し整理しよう。\n",
    "周辺から観測したセルの和を$b_i$とすると、セル$x_j$との関係は、以下のようになる。\n"
   ]
  },
  {
   "cell_type": "markdown",
   "metadata": {},
   "source": [
    "１．左から右にセルを通過する場合\n",
    "\n",
    "$b_1=x_1+x_2+x_3$\n",
    "\n",
    "$b_2=x_4+x_5+x_6$\n",
    "\n",
    "$b_3=x_7+x_8+x_9$\n",
    "\n",
    "２．右上から左下にセルを通過する場合\n",
    "\n",
    "$b_4=x_1$\n",
    "\n",
    "$b_5=x_2 + x_4$\n",
    "\n",
    "$b_6=x_3 + x_5 + x_7$\n",
    "\n",
    "$b_7=x_6 + x_8$\n",
    "\n",
    "$b_8=x_9$\n",
    "\n",
    "３．上から下にセルを通過する場合\n",
    "\n",
    "$b_9=x_1 + x_4 + x_7$\n",
    "\n",
    "$b_{10}=x_2 + x_5 + x_8$\n",
    "\n",
    "$b_{11}=x_3 + x_6 + x_9$\n",
    "\n",
    "４．左上から右下にセルを通過する場合\n",
    "\n",
    "$b_{12}=x_7$\n",
    "\n",
    "$b_{13}=x_4 + x_8$\n",
    "\n",
    "$b_{14}=x_1 + x_5 + x_9$\n",
    "\n",
    "$b_{15}=x_2 + x_6$\n",
    "\n",
    "$b_{16}=x_3$\n",
    "\n",
    "${\\bf x}\\in {\\bf R}^9$、 ${\\bf b}\\in {\\bf R}^{16}$、\n",
    "${\\bf A}\\in {\\bf R}^{16\\times 9}$として、これに対応する行列を作ろう\n",
    "今回は記号演算の必要がないのでNumPyを用いる。\n",
    "\n",
    "まずは係数の行列をつくる。今回は数が少ないので力業で作ろう。"
   ]
  },
  {
   "cell_type": "code",
   "execution_count": 80,
   "metadata": {
    "collapsed": true
   },
   "outputs": [
    {
     "data": {
      "text/plain": [
       "array([[ 1.,  1.,  1.,  0.,  0.,  0.,  0.,  0.,  0.],\n",
       "       [ 0.,  0.,  0.,  1.,  1.,  1.,  0.,  0.,  0.],\n",
       "       [ 0.,  0.,  0.,  0.,  0.,  0.,  1.,  1.,  1.],\n",
       "       [ 1.,  0.,  0.,  0.,  0.,  0.,  0.,  0.,  0.],\n",
       "       [ 0.,  1.,  0.,  1.,  0.,  0.,  0.,  0.,  0.],\n",
       "       [ 1.,  0.,  0.,  0.,  1.,  0.,  0.,  0.,  1.],\n",
       "       [ 0.,  0.,  0.,  0.,  1.,  0.,  0.,  0.,  1.],\n",
       "       [ 0.,  0.,  0.,  0.,  0.,  0.,  0.,  0.,  1.],\n",
       "       [ 1.,  0.,  0.,  1.,  0.,  0.,  1.,  0.,  0.],\n",
       "       [ 0.,  1.,  0.,  0.,  1.,  0.,  0.,  1.,  0.],\n",
       "       [ 0.,  0.,  1.,  0.,  0.,  1.,  0.,  0.,  1.],\n",
       "       [ 0.,  0.,  0.,  0.,  0.,  0.,  1.,  0.,  0.],\n",
       "       [ 0.,  0.,  0.,  1.,  0.,  0.,  0.,  1.,  0.],\n",
       "       [ 1.,  0.,  0.,  0.,  1.,  0.,  0.,  0.,  1.],\n",
       "       [ 0.,  1.,  0.,  0.,  0.,  1.,  0.,  0.,  0.],\n",
       "       [ 0.,  0.,  1.,  0.,  0.,  0.,  0.,  0.,  0.]])"
      ]
     },
     "execution_count": 80,
     "metadata": {},
     "output_type": "execute_result"
    }
   ],
   "source": [
    "import numpy as np\n",
    "A = np.array([[1.0,1,1,0,0,0,0,0,0],\n",
    "                [0,0,0,1,1,1,0,0,0],\n",
    "                [0,0,0,0,0,0,1,1,1],\n",
    "                [1,0,0,0,0,0,0,0,0],\n",
    "                [0,1,0,1,0,0,0,0,0],\n",
    "                [1,0,0,0,1,0,0,0,1],\n",
    "                [0,0,0,0,1,0,0,0,1],\n",
    "                [0,0,0,0,0,0,0,0,1],\n",
    "                [1,0,0,1,0,0,1,0,0],\n",
    "                [0,1,0,0,1,0,0,1,0],\n",
    "                [0,0,1,0,0,1,0,0,1],\n",
    "                [0,0,0,0,0,0,1,0,0],\n",
    "                [0,0,0,1,0,0,0,1,0],\n",
    "                [1,0,0,0,1,0,0,0,1],\n",
    "                [0,1,0,0,0,1,0,0,0],\n",
    "                [0,0,1,0,0,0,0,0,0]])\n",
    "A"
   ]
  },
  {
   "cell_type": "markdown",
   "metadata": {},
   "source": [
    "思った通り大変である。\n",
    "\n",
    "$m\\times n$の一般の長方形形状のセルの集合は、課題としてとっておこう。\n",
    "\n",
    "さて、係数が求まったので、一般逆行列を求めることができる。\n",
    "これはNumPyのpinv関数を使う。\n"
   ]
  },
  {
   "cell_type": "code",
   "execution_count": 81,
   "metadata": {
    "collapsed": true
   },
   "outputs": [],
   "source": [
    "Ainv=np.linalg.pinv(A)"
   ]
  },
  {
   "cell_type": "markdown",
   "metadata": {},
   "source": [
    "では、セルを\n",
    "$$\n",
    "\\begin{array}{ccc}\n",
    "1 2 3 \\\\\n",
    "4 5 6 \\\\\n",
    "7 8 9\n",
    "\\end{array}\n",
    "$$\n",
    "と考えて、答えのベクトル${\\bf x}$を作ろう。\n",
    "\n",
    "何の変哲もない並びだが、確認にはよかろう。"
   ]
  },
  {
   "cell_type": "code",
   "execution_count": 82,
   "metadata": {
    "collapsed": false
   },
   "outputs": [
    {
     "data": {
      "text/plain": [
       "array([ 1.,  2.,  3.,  4.,  5.,  6.,  7.,  8.,  9.])"
      ]
     },
     "execution_count": 82,
     "metadata": {},
     "output_type": "execute_result"
    }
   ],
   "source": [
    "x = np.array([1.0, 2, 3, 4, 5, 6, 7, 8, 9])\n",
    "x"
   ]
  },
  {
   "cell_type": "markdown",
   "metadata": {},
   "source": [
    "このセル群を縦、横、斜めから見た時の和を計算するにはどうするのだろうか？\n",
    "\n",
    "先ほど定義した行列は${\\bf x}$ が入力されたときに和の取り方を示したものなので、\n",
    "単純に掛け算をすればよいはずである。\n",
    "\n",
    "行列とベクトル、ベクトルとベクトルの積は、dot関数で行う。実際にやってみよう。\n"
   ]
  },
  {
   "cell_type": "code",
   "execution_count": 84,
   "metadata": {
    "collapsed": false
   },
   "outputs": [
    {
     "data": {
      "text/plain": [
       "array([  6.,  15.,  24.,   1.,   6.,  15.,  14.,   9.,  12.,  15.,  18.,\n",
       "         7.,  12.,  15.,   8.,   3.])"
      ]
     },
     "execution_count": 84,
     "metadata": {},
     "output_type": "execute_result"
    }
   ],
   "source": [
    "b=A.dot(x)\n",
    "b"
   ]
  },
  {
   "cell_type": "markdown",
   "metadata": {},
   "source": [
    "出てきた。升目を見ながら加算を行い、このリストと見比べると、結果が意図したものと一致することがわかる。\n",
    "\n",
    "つまり、${\\bf Ax}={\\bf b}$のすべての要素がわかった。\n",
    "\n",
    "次は${\\bf x}$を未知とする。Aの疑似逆行列を求めて、上式の左からかけよう。\n",
    "疑似逆行列は、NumPyのpinv関数で求めることができる。"
   ]
  },
  {
   "cell_type": "code",
   "execution_count": 87,
   "metadata": {
    "collapsed": false
   },
   "outputs": [
    {
     "data": {
      "text/plain": [
       "array([ 1.,  2.,  3.,  4.,  5.,  6.,  7.,  8.,  9.])"
      ]
     },
     "execution_count": 87,
     "metadata": {},
     "output_type": "execute_result"
    }
   ],
   "source": [
    "Ainv=np.linalg.pinv(A)\n",
    "Ainv.dot(b)"
   ]
  },
  {
   "cell_type": "markdown",
   "metadata": {},
   "source": [
    "元に戻った！\n",
    "\n",
    "次に、${\\bf b}$に少しノイズを加えてみよう。"
   ]
  },
  {
   "cell_type": "code",
   "execution_count": 92,
   "metadata": {
    "collapsed": false
   },
   "outputs": [
    {
     "data": {
      "text/plain": [
       "array([ 1.1529052 ,  2.19397117,  3.27435561,  3.95587593,  4.96941896,\n",
       "        5.88816077,  6.98864133,  7.98339886,  8.94189602])"
      ]
     },
     "execution_count": 92,
     "metadata": {},
     "output_type": "execute_result"
    }
   ],
   "source": [
    "c=np.array(b)\n",
    "c[0] += 1\n",
    "Ainv.dot(c)"
   ]
  },
  {
   "cell_type": "markdown",
   "metadata": {},
   "source": [
    "一つ値を変えただけで、全体の値が少しずつ変わってしまうことがわかる。\n",
    "\n",
    "今度は異なる部分を変えてみよう。\n"
   ]
  },
  {
   "cell_type": "code",
   "execution_count": 94,
   "metadata": {
    "collapsed": false
   },
   "outputs": [
    {
     "data": {
      "text/plain": [
       "array([ 1.37003058,  1.91131498,  2.87155963,  3.91131498,  4.85932722,\n",
       "        6.17125382,  6.87155963,  8.17125382,  8.93272171])"
      ]
     },
     "execution_count": 94,
     "metadata": {},
     "output_type": "execute_result"
    }
   ],
   "source": [
    "d=np.array(b)\n",
    "d[3]+=1\n",
    "Ainv.dot(d)"
   ]
  },
  {
   "cell_type": "code",
   "execution_count": 78,
   "metadata": {
    "collapsed": false
   },
   "outputs": [],
   "source": [
    "def magic_square3(coef, b):\n",
    "    A = np.array(coef)\n",
    "    s = np.array(b)\n",
    "    for i in reversed(range(b.shape[0])):\n",
    "        if(np.isnan(b[i])):\n",
    "            np.delete(A, i, 0)\n",
    "            s=np.delete(s,i)\n",
    "    return A,s"
   ]
  },
  {
   "cell_type": "code",
   "execution_count": 75,
   "metadata": {
    "collapsed": false
   },
   "outputs": [
    {
     "data": {
      "text/plain": [
       "(array([[ 1.,  1.,  1.,  0.,  0.,  0.,  0.,  0.,  0.],\n",
       "        [ 0.,  0.,  0.,  1.,  1.,  1.,  0.,  0.,  0.],\n",
       "        [ 0.,  0.,  0.,  0.,  0.,  0.,  1.,  1.,  1.],\n",
       "        [ 1.,  0.,  0.,  0.,  0.,  0.,  0.,  0.,  0.],\n",
       "        [ 0.,  1.,  0.,  1.,  0.,  0.,  0.,  0.,  0.],\n",
       "        [ 1.,  0.,  0.,  0.,  1.,  0.,  0.,  0.,  1.],\n",
       "        [ 0.,  0.,  0.,  0.,  1.,  0.,  0.,  0.,  1.],\n",
       "        [ 0.,  0.,  0.,  0.,  0.,  0.,  0.,  0.,  1.],\n",
       "        [ 1.,  0.,  0.,  1.,  0.,  0.,  1.,  0.,  0.],\n",
       "        [ 0.,  1.,  0.,  0.,  1.,  0.,  0.,  1.,  0.],\n",
       "        [ 0.,  0.,  1.,  0.,  0.,  1.,  0.,  0.,  1.],\n",
       "        [ 0.,  0.,  0.,  0.,  0.,  0.,  1.,  0.,  0.],\n",
       "        [ 0.,  0.,  0.,  1.,  0.,  0.,  0.,  1.,  0.],\n",
       "        [ 1.,  0.,  0.,  0.,  1.,  0.,  0.,  0.,  1.],\n",
       "        [ 0.,  1.,  0.,  0.,  0.,  1.,  0.,  0.,  0.],\n",
       "        [ 0.,  0.,  1.,  0.,  0.,  0.,  0.,  0.,  0.]]),\n",
       " array([ 18.,  23.,   4.,   5.,  22.,   4.,  -1.,  -5.,  22.,  18.,   5.,\n",
       "          7.,  12.,   4.,  21.,   1.]))"
      ]
     },
     "execution_count": 75,
     "metadata": {},
     "output_type": "execute_result"
    }
   ],
   "source": [
    "magic_square3(A,b)"
   ]
  },
  {
   "cell_type": "code",
   "execution_count": 76,
   "metadata": {
    "collapsed": false
   },
   "outputs": [
    {
     "data": {
      "text/plain": [
       "array([ 18.,  23.,  nan,   5.,  nan,   4.,  nan,  -5.,  22.,  18.,   5.,\n",
       "         7.,  12.,   4.,  21.,   1.])"
      ]
     },
     "execution_count": 76,
     "metadata": {},
     "output_type": "execute_result"
    }
   ],
   "source": [
    "c=np.array(b)\n",
    "c[2]=np.nan\n",
    "c[4]=np.nan\n",
    "c[6]=np.nan\n",
    "c"
   ]
  },
  {
   "cell_type": "code",
   "execution_count": 79,
   "metadata": {
    "collapsed": false
   },
   "outputs": [
    {
     "data": {
      "text/plain": [
       "(array([[ 1.,  1.,  1.,  0.,  0.,  0.,  0.,  0.,  0.],\n",
       "        [ 0.,  0.,  0.,  1.,  1.,  1.,  0.,  0.,  0.],\n",
       "        [ 0.,  0.,  0.,  0.,  0.,  0.,  1.,  1.,  1.],\n",
       "        [ 1.,  0.,  0.,  0.,  0.,  0.,  0.,  0.,  0.],\n",
       "        [ 0.,  1.,  0.,  1.,  0.,  0.,  0.,  0.,  0.],\n",
       "        [ 1.,  0.,  0.,  0.,  1.,  0.,  0.,  0.,  1.],\n",
       "        [ 0.,  0.,  0.,  0.,  1.,  0.,  0.,  0.,  1.],\n",
       "        [ 0.,  0.,  0.,  0.,  0.,  0.,  0.,  0.,  1.],\n",
       "        [ 1.,  0.,  0.,  1.,  0.,  0.,  1.,  0.,  0.],\n",
       "        [ 0.,  1.,  0.,  0.,  1.,  0.,  0.,  1.,  0.],\n",
       "        [ 0.,  0.,  1.,  0.,  0.,  1.,  0.,  0.,  1.],\n",
       "        [ 0.,  0.,  0.,  0.,  0.,  0.,  1.,  0.,  0.],\n",
       "        [ 0.,  0.,  0.,  1.,  0.,  0.,  0.,  1.,  0.],\n",
       "        [ 1.,  0.,  0.,  0.,  1.,  0.,  0.,  0.,  1.],\n",
       "        [ 0.,  1.,  0.,  0.,  0.,  1.,  0.,  0.,  0.],\n",
       "        [ 0.,  0.,  1.,  0.,  0.,  0.,  0.,  0.,  0.]]),\n",
       " array([ 18.,  23.,   5.,   4.,  -5.,  22.,  18.,   5.,   7.,  12.,   4.,\n",
       "         21.,   1.]))"
      ]
     },
     "execution_count": 79,
     "metadata": {},
     "output_type": "execute_result"
    }
   ],
   "source": [
    "magic_square3(A,c)"
   ]
  },
  {
   "cell_type": "code",
   "execution_count": null,
   "metadata": {
    "collapsed": true
   },
   "outputs": [],
   "source": []
  }
 ],
 "metadata": {
  "kernelspec": {
   "display_name": "Python 3",
   "language": "python",
   "name": "python3"
  },
  "language_info": {
   "codemirror_mode": {
    "name": "ipython",
    "version": 3
   },
   "file_extension": ".py",
   "mimetype": "text/x-python",
   "name": "python",
   "nbconvert_exporter": "python",
   "pygments_lexer": "ipython3",
   "version": "3.6.0"
  }
 },
 "nbformat": 4,
 "nbformat_minor": 2
}
